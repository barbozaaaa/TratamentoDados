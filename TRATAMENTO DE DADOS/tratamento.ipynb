{
 "cells": [
  {
   "cell_type": "code",
   "execution_count": 7,
   "metadata": {},
   "outputs": [
    {
     "name": "stdout",
     "output_type": "stream",
     "text": [
      "    nome  idade      cidade  salario\n",
      "0   joao   28.0          rj   3500.0\n",
      "1  maria    NaN  velo clube   4500.0\n",
      "2   jose   35.0         NaN      NaN\n",
      "3    ana   22.0      santos   5000.0\n",
      "4  pedro    NaN   sao paulo   4800.0\n"
     ]
    }
   ],
   "source": [
    "import pandas as pd\n",
    "\n",
    "#carregar dados do arquivo\n",
    "df = pd.read_excel('dados_ausentes.xlsx')\n",
    "print(df)\n"
   ]
  },
  {
   "cell_type": "code",
   "execution_count": 8,
   "metadata": {},
   "outputs": [
    {
     "name": "stdout",
     "output_type": "stream",
     "text": [
      "    nome  idade      cidade  salario\n",
      "0   joao   28.0          Rj   3500.0\n",
      "1  maria    NaN  Velo Clube   4500.0\n",
      "2   jose   35.0         NaN      NaN\n",
      "3    ana   22.0      Santos   5000.0\n",
      "4  pedro    NaN   Sao Paulo   4800.0\n"
     ]
    }
   ],
   "source": [
    "df['cidade'] = df['cidade'].str.title()\n",
    "\n",
    "print(df)"
   ]
  },
  {
   "cell_type": "code",
   "execution_count": 9,
   "metadata": {},
   "outputs": [
    {
     "name": "stdout",
     "output_type": "stream",
     "text": [
      "    nome  idade          cidade  salario\n",
      "0   joao   28.0  rio de janeiro   3500.0\n",
      "1  maria    NaN           teste   4500.0\n",
      "2   jose   35.0             NaN      NaN\n",
      "3    ana   22.0         serie b   5000.0\n",
      "4  pedro    NaN            spfc   4800.0\n"
     ]
    }
   ],
   "source": [
    "df['cidade'] = df['cidade'].str.lower().replace({\"rj\": \"rio de janeiro\",\"velo clube\":\"teste\", \"santos\": \"serie b\",\"sao paulo\": \"spfc\"})\n",
    "print(df)"
   ]
  },
  {
   "cell_type": "code",
   "execution_count": 13,
   "metadata": {},
   "outputs": [
    {
     "name": "stdout",
     "output_type": "stream",
     "text": [
      "    nome      idade          cidade  salario\n",
      "0   joao  28.000000  rio de janeiro   3500.0\n",
      "1  maria  28.333333           teste   4500.0\n",
      "2   jose  35.000000             NaN      NaN\n",
      "3    ana  22.000000         serie b   5000.0\n",
      "4  pedro  28.333333            spfc   4800.0\n"
     ]
    }
   ],
   "source": [
    "df['idade'].fillna(df['idade'].mean(), inplace = True)\n",
    "print(df)"
   ]
  },
  {
   "cell_type": "code",
   "execution_count": 14,
   "metadata": {},
   "outputs": [
    {
     "name": "stdout",
     "output_type": "stream",
     "text": [
      "    nome  idade          cidade  salario\n",
      "0   joao     28  rio de janeiro   3500.0\n",
      "1  maria     28           teste   4500.0\n",
      "2   jose     35             NaN      NaN\n",
      "3    ana     22         serie b   5000.0\n",
      "4  pedro     28            spfc   4800.0\n"
     ]
    }
   ],
   "source": [
    "df['idade'] = df['idade'].astype(int)\n",
    "print(df)"
   ]
  },
  {
   "cell_type": "code",
   "execution_count": 15,
   "metadata": {},
   "outputs": [],
   "source": [
    "df['idade'] = df['idade'].ffill()\n",
    "\n",
    "df['idade'] = df['idade'].bfill()"
   ]
  },
  {
   "cell_type": "code",
   "execution_count": 16,
   "metadata": {},
   "outputs": [
    {
     "name": "stdout",
     "output_type": "stream",
     "text": [
      "    nome  idade          cidade  salario faixa etaria\n",
      "0   joao     28  rio de janeiro   3500.0       adulto\n",
      "1  maria     28           teste   4500.0       adulto\n",
      "2   jose     35             NaN      NaN   meia idade\n",
      "3    ana     22         serie b   5000.0       adulto\n",
      "4  pedro     28            spfc   4800.0       adulto\n"
     ]
    }
   ],
   "source": [
    "df['faixa etaria'] = pd.cut(df['idade'], bins=[0,18,30,50,100], labels= ['joven', 'adulto', 'meia idade', 'idoso'])\n",
    "print(df)"
   ]
  }
 ],
 "metadata": {
  "kernelspec": {
   "display_name": "Python 3",
   "language": "python",
   "name": "python3"
  },
  "language_info": {
   "codemirror_mode": {
    "name": "ipython",
    "version": 3
   },
   "file_extension": ".py",
   "mimetype": "text/x-python",
   "name": "python",
   "nbconvert_exporter": "python",
   "pygments_lexer": "ipython3",
   "version": "3.12.1"
  }
 },
 "nbformat": 4,
 "nbformat_minor": 2
}
